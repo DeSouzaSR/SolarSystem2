{
 "cells": [
  {
   "cell_type": "markdown",
   "metadata": {},
   "source": [
    "# Swift input file settings\n",
    "\n",
    "Configuring pl.in. Positions and speeds are in units of solar masses, [yr] and [au]."
   ]
  },
  {
   "cell_type": "markdown",
   "metadata": {},
   "source": [
    "## pl.in\n",
    "\n",
    "These are data taken directly from Horizons <https://ssd.jpl.nasa.gov/horizons.cgi#top>. Horizons provides the data from the central body and the barycentre. We're using the barycenter when possible. The date is JD 2451544.5. We used a day later to take the ephemeris, that is, on the date JD 2451545.5. The mass of Mercury is equal to Earth."
   ]
  },
  {
   "cell_type": "code",
   "execution_count": 4,
   "metadata": {
    "collapsed": false
   },
   "outputs": [],
   "source": [
    "pl_in1 = \"\"\"\n",
    " 9\n",
    " 39.476926421373015\n",
    " 0.0 0.0 0.0\n",
    " 0.0 0.0 0.0\n",
    " 1.200269375704997E-04\n",
    "-1.407280799640445E-01 -4.439009577663330E-01 -2.334555971312334E-02\n",
    " 7.7319302685031       -2.5925355290475625  -0.9214640050148311\n",
    " 9.663314328186044E-05\n",
    "-7.186302169039649E-01 -2.250380105571625E-02  4.117184137682463E-02\n",
    " 0.18756783983282135   -7.416818227580876     -0.11219548978520137\n",
    " 1.200269375704997E-04\n",
    "-1.685504489908262E-01  9.687636586748942E-01 -1.151849464032134E-06\n",
    "-6.293261327690321     -1.1005982640753948     8.811739363833449e-06\n",
    " 1.273979777116743E-05\n",
    " 1.390361066044069E+00 -2.100972149003467E-02 -3.461801461346187E-02\n",
    " 0.27318037773029197    5.546795595812662      0.10948486026663753\n",
    " 3.769224303888036E-02\n",
    " 4.003460074251473E+00  2.935353659240211E+00 -1.018232730751003E-01\n",
    "-1.6668086503476836     2.3546782982997034     0.02756042567972429\n",
    " 1.128588775599917E-02\n",
    " 6.408554725090048E+00  6.568044145835264E+00 -3.691278858265659E-01\n",
    "-1.5673314743294215     1.4213998439815614     0.03757574725171971\n",
    " 1.723661891724345E-03\n",
    " 1.443051751807564E+01 -1.373565829091644E+01 -2.381284687621118E-01\n",
    " 0.9782782576858547     0.9761096367529712    -0.009049605869397804\n",
    " 2.033612060350484E-03\n",
    " 1.681075636781368E+01 -2.499265129323521E+01  1.272712802300074E-01\n",
    " 0.9421146413090293     0.6489650112819453    -0.03503073024777183\n",
    "\"\"\""
   ]
  },
  {
   "cell_type": "markdown",
   "metadata": {},
   "source": [
    "## param.in\n",
    "\n",
    "O período de Mercúrio é de 0.2408467 yr, então, fazendo\n",
    "$$dt = \\frac{0.2408467}{20} = 0.012042335  \\approx 0.01$$. "
   ]
  },
  {
   "cell_type": "code",
   "execution_count": 6,
   "metadata": {
    "collapsed": true
   },
   "outputs": [],
   "source": [
    "param_in = \"\"\"\n",
    "0.0e0 1.0e8 0.01\n",
    "5.0e3 1.0e5\n",
    "F T F T T F\n",
    "0.005 100 -1.0 -1.0 F\n",
    "output.bin\n",
    "unknown\n",
    "\"\"\""
   ]
  },
  {
   "cell_type": "markdown",
   "metadata": {},
   "source": [
    "## tp.in\n",
    "Não há partícula de teste. Portanto, o arquivo é apenas uma entrada com um único valor zero."
   ]
  },
  {
   "cell_type": "code",
   "execution_count": 13,
   "metadata": {
    "collapsed": true
   },
   "outputs": [],
   "source": [
    "tp_in = \"\"\"\n",
    "0\n",
    "\"\"\""
   ]
  },
  {
   "cell_type": "markdown",
   "metadata": {},
   "source": [
    "## SolarSystem.in\n",
    "\n",
    "Arquivo que faz referência aos três aquivos de entrada do Swift"
   ]
  },
  {
   "cell_type": "code",
   "execution_count": null,
   "metadata": {
    "collapsed": true
   },
   "outputs": [],
   "source": [
    "solarsystem_in = \"\"\"\n",
    "param.in\n",
    "pl.in\n",
    "tp.in\n",
    "\"\"\""
   ]
  }
 ],
 "metadata": {
  "kernelspec": {
   "display_name": "Python 3",
   "language": "python",
   "name": "python3"
  },
  "language_info": {
   "codemirror_mode": {
    "name": "ipython",
    "version": 3
   },
   "file_extension": ".py",
   "mimetype": "text/x-python",
   "name": "python",
   "nbconvert_exporter": "python",
   "pygments_lexer": "ipython3",
   "version": "3.6.0"
  }
 },
 "nbformat": 4,
 "nbformat_minor": 2
}
